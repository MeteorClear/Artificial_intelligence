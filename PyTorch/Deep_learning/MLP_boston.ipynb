{
 "cells": [
  {
   "cell_type": "code",
   "execution_count": 591,
   "metadata": {},
   "outputs": [],
   "source": [
    "import numpy as np\n",
    "import pandas as pd\n",
    "\n",
    "import torch\n",
    "import torch.nn as nn\n",
    "from torch import optim\n",
    "from torch.utils.data import TensorDataset, DataLoader\n",
    "\n",
    "from sklearn import datasets\n",
    "from sklearn.model_selection import train_test_split\n",
    "from sklearn.preprocessing import StandardScaler"
   ]
  },
  {
   "cell_type": "code",
   "execution_count": 592,
   "metadata": {},
   "outputs": [
    {
     "name": "stdout",
     "output_type": "stream",
     "text": [
      "cuda\n"
     ]
    }
   ],
   "source": [
    "# GPU 사용\n",
    "device = torch.device('cuda' if torch.cuda.is_available() else 'cpu')\n",
    "print(device)"
   ]
  },
  {
   "cell_type": "code",
   "execution_count": 593,
   "metadata": {},
   "outputs": [
    {
     "name": "stdout",
     "output_type": "stream",
     "text": [
      "        CRIM    ZN  INDUS CHAS    NOX     RM   AGE     DIS RAD    TAX  \\\n",
      "0    0.00632  18.0   2.31    0  0.538  6.575  65.2  4.0900   1  296.0   \n",
      "1    0.02731   0.0   7.07    0  0.469  6.421  78.9  4.9671   2  242.0   \n",
      "2    0.02729   0.0   7.07    0  0.469  7.185  61.1  4.9671   2  242.0   \n",
      "3    0.03237   0.0   2.18    0  0.458  6.998  45.8  6.0622   3  222.0   \n",
      "4    0.06905   0.0   2.18    0  0.458  7.147  54.2  6.0622   3  222.0   \n",
      "..       ...   ...    ...  ...    ...    ...   ...     ...  ..    ...   \n",
      "501  0.06263   0.0  11.93    0  0.573  6.593  69.1  2.4786   1  273.0   \n",
      "502  0.04527   0.0  11.93    0  0.573  6.120  76.7  2.2875   1  273.0   \n",
      "503  0.06076   0.0  11.93    0  0.573  6.976  91.0  2.1675   1  273.0   \n",
      "504  0.10959   0.0  11.93    0  0.573  6.794  89.3  2.3889   1  273.0   \n",
      "505  0.04741   0.0  11.93    0  0.573  6.030  80.8  2.5050   1  273.0   \n",
      "\n",
      "     PTRATIO       B  LSTAT  \n",
      "0       15.3  396.90   4.98  \n",
      "1       17.8  396.90   9.14  \n",
      "2       17.8  392.83   4.03  \n",
      "3       18.7  394.63   2.94  \n",
      "4       18.7  396.90   5.33  \n",
      "..       ...     ...    ...  \n",
      "501     21.0  391.99   9.67  \n",
      "502     21.0  396.90   9.08  \n",
      "503     21.0  396.90   5.64  \n",
      "504     21.0  393.45   6.48  \n",
      "505     21.0  396.90   7.88  \n",
      "\n",
      "[506 rows x 13 columns]\n",
      "0      24.0\n",
      "1      21.6\n",
      "2      34.7\n",
      "3      33.4\n",
      "4      36.2\n",
      "       ... \n",
      "501    22.4\n",
      "502    20.6\n",
      "503    23.9\n",
      "504    22.0\n",
      "505    11.9\n",
      "Name: MEDV, Length: 506, dtype: float64\n"
     ]
    },
    {
     "name": "stderr",
     "output_type": "stream",
     "text": [
      "c:\\ProgramData\\Anaconda3\\envs\\ml\\lib\\site-packages\\sklearn\\datasets\\_openml.py:322: UserWarning: Multiple active versions of the dataset matching the name boston exist. Versions may be fundamentally different, returning version 1. Available versions:\n",
      "- version 1, status: active\n",
      "  url: https://www.openml.org/search?type=data&id=531\n",
      "- version 2, status: active\n",
      "  url: https://www.openml.org/search?type=data&id=853\n",
      "\n",
      "  warn(warning_msg)\n"
     ]
    }
   ],
   "source": [
    "X, y = datasets.fetch_openml('boston', return_X_y=True)\n",
    "print(X)\n",
    "print(y)"
   ]
  },
  {
   "cell_type": "code",
   "execution_count": 594,
   "metadata": {},
   "outputs": [],
   "source": [
    "# 피처 스케일링\n",
    "scaler = StandardScaler()\n",
    "X_scaled = scaler.fit_transform(X)"
   ]
  },
  {
   "cell_type": "code",
   "execution_count": 595,
   "metadata": {},
   "outputs": [],
   "source": [
    "# 훈련, 검증 데이터 분할\n",
    "X_train, X_test, y_train, y_test = train_test_split(X_scaled, y, test_size=1/10, random_state=0)\n",
    "\n",
    "# 텐서로 변환\n",
    "X_train = torch.tensor(X_train, dtype=torch.float32).to(device)\n",
    "X_test = torch.tensor(X_test, dtype=torch.float32).to(device)\n",
    "y_train = torch.tensor(y_train.to_numpy(), dtype=torch.float32).to(device)\n",
    "y_test = torch.tensor(y_test.to_numpy(), dtype=torch.float32).to(device)\n",
    "\n",
    "# 데이터셋, 미니배치 분할\n",
    "train_dataset = TensorDataset(X_train, y_train)\n",
    "test_dataset = TensorDataset(X_test, y_test)\n",
    "train_loader = DataLoader(dataset=train_dataset, batch_size=32, shuffle=True)\n",
    "test_loader = DataLoader(dataset=test_dataset, batch_size=32, shuffle=False)"
   ]
  },
  {
   "cell_type": "code",
   "execution_count": 596,
   "metadata": {},
   "outputs": [],
   "source": [
    "# 모델 정의 13 - 32 - 32 - 1, 회귀문제\n",
    "# 피처 [CRIM, ZN, INDUS, CHAS, NOX, RM, AGE, DIS, RAD, TAX, PTRATIO, B, LSTAT] 13개\n",
    "class Boston_Net(nn.Module):\n",
    "    def __init__(self) -> None:\n",
    "        super(Boston_Net, self).__init__()\n",
    "        self.fc1 = nn.Linear(13, 32)\n",
    "        self.relu = nn.ReLU()\n",
    "        self.fc2 = nn.Linear(32, 32)\n",
    "        self.relu = nn.ReLU()\n",
    "        self.fc3 = nn.Linear(32, 1)\n",
    "\n",
    "    def forward(self, x):\n",
    "        out = self.fc1(x)\n",
    "        out = self.relu(out)\n",
    "        out = self.fc2(out)\n",
    "        out = self.relu(out)\n",
    "        out = self.fc3(out)\n",
    "        return out\n",
    "    \n",
    "model = Boston_Net().to(device)"
   ]
  },
  {
   "cell_type": "code",
   "execution_count": 597,
   "metadata": {},
   "outputs": [],
   "source": [
    "# 회귀문제라 평균제곱오차\n",
    "loss_fn = nn.MSELoss()\n",
    "optimizer = optim.Adam(model.parameters(), lr=0.01)"
   ]
  },
  {
   "cell_type": "code",
   "execution_count": 598,
   "metadata": {},
   "outputs": [],
   "source": [
    "# 모델 훈련\n",
    "def train(epoch):\n",
    "    model.train()\n",
    "\n",
    "    for inputs, labels in train_loader:\n",
    "        inputs, labels = inputs.to(device), labels.to(device)\n",
    "\n",
    "        outputs = model(inputs)         # output shape [32, 1]\n",
    "        outputs = outputs.squeeze()     # labels shape [32]\n",
    "        loss = loss_fn(outputs, labels)\n",
    "        \n",
    "\n",
    "        optimizer.zero_grad()\n",
    "        loss.backward()\n",
    "        optimizer.step()\n",
    "\n",
    "    if (epoch+1)%10 == 0:\n",
    "        print(f'Epoch {epoch+1}, Loss: {loss.item():.4f}')"
   ]
  },
  {
   "cell_type": "code",
   "execution_count": 599,
   "metadata": {},
   "outputs": [],
   "source": [
    "# 모델 검증\n",
    "def test():\n",
    "    model.eval()\n",
    "    \n",
    "    with torch.no_grad():\n",
    "        total_loss = 0\n",
    "\n",
    "        for inputs, targets in test_loader:\n",
    "            inputs, targets = inputs.to(device), targets.to(device)\n",
    "\n",
    "            outputs = model(inputs)     # output shape [32, 1]\n",
    "            outputs = outputs.squeeze() # labels shape [32]\n",
    "            \n",
    "            loss = loss_fn(outputs, targets)\n",
    "            total_loss += loss.item()\n",
    "            for idx in range(len(outputs)):\n",
    "                print(f\"output: {float(outputs[idx]):.1f}, label: {float(targets[idx]):.1f}\")\n",
    "\n",
    "        avg_loss = total_loss / len(test_loader)\n",
    "        print(f'Average Loss: {avg_loss:.4f}')"
   ]
  },
  {
   "cell_type": "code",
   "execution_count": 600,
   "metadata": {},
   "outputs": [
    {
     "name": "stdout",
     "output_type": "stream",
     "text": [
      "output: -0.2, label: 22.6\n",
      "output: -0.1, label: 50.0\n",
      "output: -0.1, label: 23.0\n",
      "output: 0.0, label: 8.3\n",
      "output: -0.1, label: 21.2\n",
      "output: -0.1, label: 19.9\n",
      "output: -0.1, label: 20.6\n",
      "output: -0.1, label: 18.7\n",
      "output: -0.1, label: 16.1\n",
      "output: -0.1, label: 18.6\n",
      "output: 0.2, label: 8.8\n",
      "output: 0.1, label: 17.2\n",
      "output: 0.0, label: 14.9\n",
      "output: 0.1, label: 10.5\n",
      "output: -0.2, label: 50.0\n",
      "output: -0.2, label: 29.0\n",
      "output: -0.1, label: 23.0\n",
      "output: -0.1, label: 33.3\n",
      "output: -0.2, label: 29.4\n",
      "output: -0.2, label: 21.0\n",
      "output: -0.1, label: 23.8\n",
      "output: -0.1, label: 19.1\n",
      "output: -0.0, label: 20.4\n",
      "output: -0.2, label: 29.1\n",
      "output: -0.2, label: 19.3\n",
      "output: 0.1, label: 23.1\n",
      "output: -0.1, label: 19.6\n",
      "output: -0.0, label: 19.4\n",
      "output: -0.1, label: 38.7\n",
      "output: -0.0, label: 18.7\n",
      "output: -0.0, label: 14.6\n",
      "output: -0.0, label: 20.0\n",
      "output: -0.1, label: 20.5\n",
      "output: -0.1, label: 20.1\n",
      "output: -0.1, label: 23.6\n",
      "output: -0.0, label: 16.8\n",
      "output: 0.0, label: 5.6\n",
      "output: -0.0, label: 50.0\n",
      "output: 0.1, label: 14.5\n",
      "output: 0.0, label: 13.3\n",
      "output: -0.2, label: 23.9\n",
      "output: -0.2, label: 20.0\n",
      "output: -0.2, label: 19.8\n",
      "output: 0.0, label: 13.8\n",
      "output: -0.1, label: 16.5\n",
      "output: -0.1, label: 21.6\n",
      "output: -0.1, label: 20.3\n",
      "output: -0.1, label: 17.0\n",
      "output: 0.0, label: 11.8\n",
      "output: -0.1, label: 27.5\n",
      "output: 0.0, label: 15.6\n",
      "Average Loss: 532.1448\n"
     ]
    }
   ],
   "source": [
    "test()"
   ]
  },
  {
   "cell_type": "code",
   "execution_count": 601,
   "metadata": {},
   "outputs": [
    {
     "name": "stdout",
     "output_type": "stream",
     "text": [
      "Epoch 10, Loss: 12.5611\n",
      "Epoch 20, Loss: 6.4867\n",
      "Epoch 30, Loss: 5.3603\n",
      "Epoch 40, Loss: 8.0867\n",
      "Epoch 50, Loss: 11.5164\n",
      "Epoch 60, Loss: 1.1000\n",
      "Epoch 70, Loss: 5.3854\n",
      "Epoch 80, Loss: 2.7327\n",
      "Epoch 90, Loss: 11.1107\n",
      "Epoch 100, Loss: 3.4977\n"
     ]
    }
   ],
   "source": [
    "num_epochs = 100\n",
    "for epoch in range(num_epochs):\n",
    "    train(epoch)"
   ]
  },
  {
   "cell_type": "code",
   "execution_count": 602,
   "metadata": {},
   "outputs": [
    {
     "name": "stdout",
     "output_type": "stream",
     "text": [
      "output: 24.7, label: 22.6\n",
      "output: 29.1, label: 50.0\n",
      "output: 25.6, label: 23.0\n",
      "output: 10.4, label: 8.3\n",
      "output: 19.4, label: 21.2\n",
      "output: 19.8, label: 19.9\n",
      "output: 23.6, label: 20.6\n",
      "output: 22.3, label: 18.7\n",
      "output: 20.0, label: 16.1\n",
      "output: 20.3, label: 18.6\n",
      "output: 6.4, label: 8.8\n",
      "output: 14.1, label: 17.2\n",
      "output: 16.1, label: 14.9\n",
      "output: 8.5, label: 10.5\n",
      "output: 45.4, label: 50.0\n",
      "output: 36.4, label: 29.0\n",
      "output: 24.8, label: 23.0\n",
      "output: 40.3, label: 33.3\n",
      "output: 33.7, label: 29.4\n",
      "output: 23.4, label: 21.0\n",
      "output: 24.6, label: 23.8\n",
      "output: 21.0, label: 19.1\n",
      "output: 21.2, label: 20.4\n",
      "output: 28.7, label: 29.1\n",
      "output: 22.4, label: 19.3\n",
      "output: 24.1, label: 23.1\n",
      "output: 16.8, label: 19.6\n",
      "output: 16.7, label: 19.4\n",
      "output: 44.4, label: 38.7\n",
      "output: 18.2, label: 18.7\n",
      "output: 16.9, label: 14.6\n",
      "output: 17.3, label: 20.0\n",
      "output: 21.9, label: 20.5\n",
      "output: 20.3, label: 20.1\n",
      "output: 28.4, label: 23.6\n",
      "output: 20.5, label: 16.8\n",
      "output: 8.7, label: 5.6\n",
      "output: 41.7, label: 50.0\n",
      "output: 15.0, label: 14.5\n",
      "output: 14.9, label: 13.3\n",
      "output: 25.5, label: 23.9\n",
      "output: 23.0, label: 20.0\n",
      "output: 20.9, label: 19.8\n",
      "output: 18.9, label: 13.8\n",
      "output: 23.4, label: 16.5\n",
      "output: 24.5, label: 21.6\n",
      "output: 21.0, label: 20.3\n",
      "output: 13.6, label: 17.0\n",
      "output: 16.1, label: 11.8\n",
      "output: 24.1, label: 27.5\n",
      "output: 12.4, label: 15.6\n",
      "Average Loss: 18.7103\n"
     ]
    }
   ],
   "source": [
    "test()"
   ]
  }
 ],
 "metadata": {
  "kernelspec": {
   "display_name": "ml",
   "language": "python",
   "name": "python3"
  },
  "language_info": {
   "codemirror_mode": {
    "name": "ipython",
    "version": 3
   },
   "file_extension": ".py",
   "mimetype": "text/x-python",
   "name": "python",
   "nbconvert_exporter": "python",
   "pygments_lexer": "ipython3",
   "version": "3.10.13"
  }
 },
 "nbformat": 4,
 "nbformat_minor": 2
}
