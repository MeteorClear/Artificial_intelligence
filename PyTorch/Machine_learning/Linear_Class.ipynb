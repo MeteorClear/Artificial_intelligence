{
 "cells": [
  {
   "cell_type": "markdown",
   "metadata": {},
   "source": [
    "## Class로 PyTorch 모델 구현"
   ]
  },
  {
   "cell_type": "markdown",
   "metadata": {},
   "source": [
    "### 모델을 클래스로 구현"
   ]
  },
  {
   "cell_type": "markdown",
   "metadata": {},
   "source": [
    "PyTorch의 대부분의 구현체들은 대부분 모델을 생성할 때 클래스(Class)를 사용\n",
    "\n",
    "따라서 PyTorch의 nn.Module을 상속받아 클래스를 구현할 수 있음"
   ]
  },
  {
   "cell_type": "code",
   "execution_count": 16,
   "metadata": {},
   "outputs": [],
   "source": [
    "import torch\n",
    "import torch.nn as nn\n",
    "import torch.nn.functional as F"
   ]
  },
  {
   "cell_type": "code",
   "execution_count": 17,
   "metadata": {},
   "outputs": [
    {
     "data": {
      "text/plain": [
       "<torch._C.Generator at 0x2a92b339350>"
      ]
     },
     "execution_count": 17,
     "metadata": {},
     "output_type": "execute_result"
    }
   ],
   "source": [
    "torch.manual_seed(1)"
   ]
  },
  {
   "cell_type": "code",
   "execution_count": 18,
   "metadata": {},
   "outputs": [],
   "source": [
    "class LinearModel(nn.Module):\n",
    "\n",
    "    # 생성자\n",
    "    def __init__(self, input_dim=1, output_dim=1):\n",
    "        super().__init__()\n",
    "        self.linear = nn.Linear(input_dim, output_dim)\n",
    "\n",
    "    # foward() 함수는 모델이 학습데이터를 입력받아서 forward 연산을 진행시키는 함수\n",
    "    def forward(self, x):\n",
    "        return self.linear(x)"
   ]
  },
  {
   "cell_type": "markdown",
   "metadata": {},
   "source": [
    "### 단순 선형 회귀"
   ]
  },
  {
   "cell_type": "code",
   "execution_count": 19,
   "metadata": {},
   "outputs": [],
   "source": [
    "model = LinearModel()"
   ]
  },
  {
   "cell_type": "code",
   "execution_count": 20,
   "metadata": {},
   "outputs": [],
   "source": [
    "# 데이터\n",
    "x_train = torch.FloatTensor([[1], [2], [3]])\n",
    "y_train = torch.FloatTensor([[2], [4], [6]])"
   ]
  },
  {
   "cell_type": "code",
   "execution_count": 21,
   "metadata": {},
   "outputs": [],
   "source": [
    "# 옵티마이저 \n",
    "optimizer = torch.optim.SGD(model.parameters(), lr=0.01) "
   ]
  },
  {
   "cell_type": "code",
   "execution_count": 22,
   "metadata": {},
   "outputs": [
    {
     "name": "stdout",
     "output_type": "stream",
     "text": [
      "Epoch    0/2000              Cost: 13.103541\n",
      "Epoch  100/2000              Cost: 0.002791\n",
      "Epoch  200/2000              Cost: 0.001724\n",
      "Epoch  300/2000              Cost: 0.001066\n",
      "Epoch  400/2000              Cost: 0.000658\n",
      "Epoch  500/2000              Cost: 0.000407\n",
      "Epoch  600/2000              Cost: 0.000251\n",
      "Epoch  700/2000              Cost: 0.000155\n",
      "Epoch  800/2000              Cost: 0.000096\n",
      "Epoch  900/2000              Cost: 0.000059\n",
      "Epoch 1000/2000              Cost: 0.000037\n",
      "Epoch 1100/2000              Cost: 0.000023\n",
      "Epoch 1200/2000              Cost: 0.000014\n",
      "Epoch 1300/2000              Cost: 0.000009\n",
      "Epoch 1400/2000              Cost: 0.000005\n",
      "Epoch 1500/2000              Cost: 0.000003\n",
      "Epoch 1600/2000              Cost: 0.000002\n",
      "Epoch 1700/2000              Cost: 0.000001\n",
      "Epoch 1800/2000              Cost: 0.000001\n",
      "Epoch 1900/2000              Cost: 0.000000\n",
      "Epoch 2000/2000              Cost: 0.000000\n"
     ]
    }
   ],
   "source": [
    "nb_epochs = 2000\n",
    "for epoch in range(nb_epochs+1):\n",
    "\n",
    "    prediction = model(x_train)\n",
    "\n",
    "    cost = F.mse_loss(prediction, y_train)\n",
    "\n",
    "    optimizer.zero_grad()\n",
    "    cost.backward()\n",
    "    optimizer.step()\n",
    "\n",
    "    if epoch % 100 == 0:\n",
    "      print(f'Epoch {epoch:4d}/{nb_epochs} \\\n",
    "             Cost: {cost.item():.6f}')"
   ]
  },
  {
   "cell_type": "markdown",
   "metadata": {},
   "source": [
    "### 다중 선형 회귀"
   ]
  },
  {
   "cell_type": "code",
   "execution_count": 23,
   "metadata": {},
   "outputs": [],
   "source": [
    "model = LinearModel(3, 1)"
   ]
  },
  {
   "cell_type": "code",
   "execution_count": 24,
   "metadata": {},
   "outputs": [],
   "source": [
    "# 데이터\n",
    "x_train = torch.FloatTensor([[73, 80, 75],\n",
    "                             [93, 88, 93],\n",
    "                             [89, 91, 90],\n",
    "                             [96, 98, 100],\n",
    "                             [73, 66, 70]])\n",
    "y_train = torch.FloatTensor([[152], [185], [180], [196], [142]])"
   ]
  },
  {
   "cell_type": "code",
   "execution_count": 25,
   "metadata": {},
   "outputs": [],
   "source": [
    "# 옵티마이저\n",
    "optimizer = torch.optim.SGD(model.parameters(), lr=1e-5) "
   ]
  },
  {
   "cell_type": "code",
   "execution_count": 26,
   "metadata": {},
   "outputs": [
    {
     "name": "stdout",
     "output_type": "stream",
     "text": [
      "Epoch    0/2000              Cost: 42134.707031\n",
      "Epoch  100/2000              Cost: 5.960053\n",
      "Epoch  200/2000              Cost: 5.654707\n",
      "Epoch  300/2000              Cost: 5.365413\n",
      "Epoch  400/2000              Cost: 5.091429\n",
      "Epoch  500/2000              Cost: 4.831834\n",
      "Epoch  600/2000              Cost: 4.585997\n",
      "Epoch  700/2000              Cost: 4.353075\n",
      "Epoch  800/2000              Cost: 4.132411\n",
      "Epoch  900/2000              Cost: 3.923455\n",
      "Epoch 1000/2000              Cost: 3.725502\n",
      "Epoch 1100/2000              Cost: 3.537972\n",
      "Epoch 1200/2000              Cost: 3.360326\n",
      "Epoch 1300/2000              Cost: 3.192056\n",
      "Epoch 1400/2000              Cost: 3.032674\n",
      "Epoch 1500/2000              Cost: 2.881700\n",
      "Epoch 1600/2000              Cost: 2.738672\n",
      "Epoch 1700/2000              Cost: 2.603201\n",
      "Epoch 1800/2000              Cost: 2.474846\n",
      "Epoch 1900/2000              Cost: 2.353286\n",
      "Epoch 2000/2000              Cost: 2.238110\n"
     ]
    }
   ],
   "source": [
    "nb_epochs = 2000\n",
    "for epoch in range(nb_epochs+1):\n",
    "\n",
    "    prediction = model(x_train)\n",
    "\n",
    "    cost = F.mse_loss(prediction, y_train)\n",
    "\n",
    "    optimizer.zero_grad()\n",
    "    cost.backward()\n",
    "    optimizer.step()\n",
    "\n",
    "    if epoch % 100 == 0:\n",
    "      print(f'Epoch {epoch:4d}/{nb_epochs} \\\n",
    "             Cost: {cost.item():.6f}')"
   ]
  },
  {
   "cell_type": "code",
   "execution_count": null,
   "metadata": {},
   "outputs": [],
   "source": []
  }
 ],
 "metadata": {
  "kernelspec": {
   "display_name": "ml",
   "language": "python",
   "name": "python3"
  },
  "language_info": {
   "codemirror_mode": {
    "name": "ipython",
    "version": 3
   },
   "file_extension": ".py",
   "mimetype": "text/x-python",
   "name": "python",
   "nbconvert_exporter": "python",
   "pygments_lexer": "ipython3",
   "version": "3.10.13"
  }
 },
 "nbformat": 4,
 "nbformat_minor": 2
}
