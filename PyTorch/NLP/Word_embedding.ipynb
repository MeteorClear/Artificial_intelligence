{
 "cells": [
  {
   "cell_type": "markdown",
   "metadata": {},
   "source": [
    "## 원-핫 인코딩(One-hot encoding)"
   ]
  },
  {
   "cell_type": "markdown",
   "metadata": {},
   "source": [
    "문자를 숫자로 변환하는 방법 중 하나, 가장 기본적인 표현 방법\n",
    "\n",
    "단어 집합(vocabulary)은 서로 다른 단어들의 집합, 원-핫 인코딩 수행전 가장 먼저 만들어야 함\n",
    "\n",
    "텍스트의 모든 단어를 중복을 허용하지 않고 모아놓으면 이를 단어 집합이라 함\n",
    "\n",
    "단어 집합에 고유한 숫자를 부여하는 정수 인코딩을 진행\n",
    "\n",
    "표현하고 싶은 단어의 인덱스의 위치에 1을 부여하고, 다른 단어의 인덱스의 위치에는 0을 부여하여 원-핫 벡터를 구할 수 있음"
   ]
  },
  {
   "cell_type": "code",
   "execution_count": 2,
   "metadata": {},
   "outputs": [],
   "source": [
    "from konlpy.tag import Okt\n",
    "okt = Okt()"
   ]
  },
  {
   "cell_type": "code",
   "execution_count": 3,
   "metadata": {},
   "outputs": [
    {
     "name": "stdout",
     "output_type": "stream",
     "text": [
      "['나', '는', '자연어', '처리', '를', '배운다']\n"
     ]
    }
   ],
   "source": [
    "token = okt.morphs(\"나는 자연어 처리를 배운다\")\n",
    "print(token)"
   ]
  },
  {
   "cell_type": "code",
   "execution_count": 4,
   "metadata": {},
   "outputs": [
    {
     "name": "stdout",
     "output_type": "stream",
     "text": [
      "{'나': 0, '는': 1, '자연어': 2, '처리': 3, '를': 4, '배운다': 5}\n"
     ]
    }
   ],
   "source": [
    "word2index = {}\n",
    "for voca in token:\n",
    "     if voca not in word2index.keys():\n",
    "       word2index[voca] = len(word2index)\n",
    "print(word2index)"
   ]
  },
  {
   "cell_type": "code",
   "execution_count": 5,
   "metadata": {},
   "outputs": [],
   "source": [
    "def one_hot_encoding(word, word2index):\n",
    "    one_hot_vector = [0]*(len(word2index))\n",
    "    index = word2index[word]\n",
    "    one_hot_vector[index] = 1\n",
    "    return one_hot_vector"
   ]
  },
  {
   "cell_type": "code",
   "execution_count": 6,
   "metadata": {},
   "outputs": [
    {
     "data": {
      "text/plain": [
       "[0, 0, 1, 0, 0, 0]"
      ]
     },
     "execution_count": 6,
     "metadata": {},
     "output_type": "execute_result"
    }
   ],
   "source": [
    "one_hot_encoding(\"자연어\", word2index)"
   ]
  },
  {
   "cell_type": "markdown",
   "metadata": {},
   "source": [
    "원-핫 인코딩은 단어의 개수가 늘어날 수록, 벡터를 저장하기 위해 필요한 공간, 죽 벡터의 차원이 계속 늘어난다는 단점이 존재\n",
    "\n",
    "따라서 단어 집합의 크기가 곧 벡터의 차원 수\n",
    "\n",
    "이 중에서 하나의 값만 1이고 나머진 0인 값을 가지므로 저장 공간 측면에서는 매우 비효율적인 표현 방법\n",
    "\n",
    "원-핫 벡터는 단어의 유사도를 표현하지 못함, 이는 검색 시스템 등에서 심각한 문제"
   ]
  },
  {
   "cell_type": "markdown",
   "metadata": {},
   "source": [
    "## 희소 표현(Sparse Representation)"
   ]
  },
  {
   "cell_type": "markdown",
   "metadata": {},
   "source": [
    "희소 표현(Sparse Representation)은 벡터 또는 행렬(matrix)의 값이 대부분이 0으로 표현되는 방법을 뜻함\n",
    "\n",
    "대표적으로 원-핫 벡터가 희소 표현임, 즉 원-핫 벡터는 희소 벡터(sparse vector)라 할 수 있음\n",
    "\n",
    "희소 벡터의 문제점은 단어의 개수가 늘어나면 벡터의 차원이 한없이 커진다는 점, 즉 단어 집합이 클수록 고차원의 벡터\n",
    "\n",
    "이러한 벡터 표현은 공간적 낭비와 단어 벡터 간 유사도를 표현할 수 없다는 단점이 있음\n",
    "\n",
    "단어 간 의미적 유사도를 반영할 수 없다는 것은 자연어 처리에서 치명적"
   ]
  },
  {
   "cell_type": "markdown",
   "metadata": {},
   "source": [
    "## 밀집 표현(Dense Representation)"
   ]
  },
  {
   "cell_type": "markdown",
   "metadata": {},
   "source": [
    "밀집 표현(dense representation)은 희소 표현과 반대되는 표현\n",
    "\n",
    "밀집 표현은 벡터의 차원을 단어 집합의 크기로 상정하지 않음\n",
    "\n",
    "사용자가 설정한 값으로 모든 단어의 벡터 표현의 차원을 맞춤, 해당 과정에서 값이 0,1 이 아닌 실수값을 가지게 됨\n",
    "\n",
    "사용자가 밀집 표현의 차원을 128로 설정한다면, 모든 단어의 벡터 표현의 차원은 128로 바뀌면서 모든 값이 실수가 됨\n",
    "\n",
    "예를 들어 like라는 단어를 예로 들면\n",
    "\n",
    "희소 표현 [ 0 0 0 0 1 0 0 0 0 0 0 0 ... 0]\n",
    "\n",
    "밀집 표현 [0.2 1.8 1.1 -2.1 1.1 2.8 ... ]\n",
    "\n",
    "이러한 밀집 표현의 벡터를 밀집 벡터(dense vector)라 함"
   ]
  },
  {
   "cell_type": "markdown",
   "metadata": {},
   "source": [
    "## 워드 임베딩(Word Embedding)"
   ]
  },
  {
   "cell_type": "markdown",
   "metadata": {},
   "source": [
    "단어를 밀집 벡터(dense vector)의 형태로 표현하는 방법을 워드 임베딩(word embedding)\n",
    "\n",
    "워드 임베딩 과정을 통해 나온 결과 밀집 벡터를 임베딩 벡터(embedding vector)라 함\n",
    "\n",
    "워드 임베딩 방법론으로는 LSA, Word2Vec, FastText, Glove 등이 있음"
   ]
  },
  {
   "cell_type": "markdown",
   "metadata": {},
   "source": [
    ". | 원-핫 벡터 | 임베딩 벡터\n",
    "---|---|---\n",
    "차원 | 고차원 | 저차원\n",
    "다른 표현 | 희소 벡터의 일종 | 밀집 벡터의 일종\n",
    "표현 방법 | 수동 | 훈련 데이터로부터 학습\n",
    "타입 | 0, 1 | 실수"
   ]
  },
  {
   "cell_type": "markdown",
   "metadata": {},
   "source": []
  }
 ],
 "metadata": {
  "kernelspec": {
   "display_name": "ml",
   "language": "python",
   "name": "python3"
  },
  "language_info": {
   "codemirror_mode": {
    "name": "ipython",
    "version": 3
   },
   "file_extension": ".py",
   "mimetype": "text/x-python",
   "name": "python",
   "nbconvert_exporter": "python",
   "pygments_lexer": "ipython3",
   "version": "3.10.13"
  }
 },
 "nbformat": 4,
 "nbformat_minor": 2
}
