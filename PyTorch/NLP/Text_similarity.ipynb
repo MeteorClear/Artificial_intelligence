{
 "cells": [
  {
   "cell_type": "markdown",
   "metadata": {},
   "source": [
    "## 텍스트 유사도(Text similarity)"
   ]
  },
  {
   "cell_type": "markdown",
   "metadata": {},
   "source": [
    "수치화된 텍스트 데이터를 이용하여 어떤 단어나 문장, 문서간의 유사도를 구하는 것"
   ]
  },
  {
   "cell_type": "markdown",
   "metadata": {},
   "source": [
    "### 코사인 유사도(Cosine Similarity)"
   ]
  },
  {
   "cell_type": "markdown",
   "metadata": {},
   "source": [
    "코사인 유사도는 두 벡터 간의 코사인 각도를 이용하여 구할 수 있는 두 벡터의 유사도를 의미\n",
    "\n",
    "두 벡터의 방향이 완전히 동일한 경우에는 1\n",
    "\n",
    "90도의 각을 이루면 0\n",
    "\n",
    "180도로 반대의 방향을 가지면 -1\n",
    "\n",
    "값을 가짐\n",
    "\n",
    "코사인 유사도는 -1 이상 1 이하의 값을 가지며 값이 1에 가까울수록 유사도가 높다고 판단"
   ]
  },
  {
   "cell_type": "markdown",
   "metadata": {},
   "source": [
    "문서 단어 행렬이나 TF-IDF 행렬을 각각의 특징 벡터로 하여 코사인 유사도를 구할 수 있음\n",
    "\n",
    "두 벡터 A, B에 대해 코사인 유사도는\n",
    "\n",
    "$ similarity = cos(\\theta) = \\frac{A \\cdot B}{||A|| \\, ||B||} = \\frac{\\sum_{i=1}^{n} A_i \\times B_i}{\\sqrt{\\sum_{i=1}^{n} (A_i)^2} \\times \\sqrt{\\sum_{i=1}^{n} (B_i)^2}} $"
   ]
  },
  {
   "cell_type": "code",
   "execution_count": 27,
   "metadata": {},
   "outputs": [],
   "source": [
    "import numpy as np\n",
    "from numpy import dot\n",
    "from numpy.linalg import norm\n",
    "from sklearn.feature_extraction.text import CountVectorizer"
   ]
  },
  {
   "cell_type": "code",
   "execution_count": 28,
   "metadata": {},
   "outputs": [],
   "source": [
    "docs = [\n",
    "    \"I don't know\",\n",
    "    \"what should I do\",\n",
    "    \"I don't know. what should I do\",\n",
    "    \"I don't know. I don't know.\"\n",
    "]"
   ]
  },
  {
   "cell_type": "code",
   "execution_count": 29,
   "metadata": {},
   "outputs": [],
   "source": [
    "def cos_similarity(A, B):\n",
    "    return dot(A, B) / (norm(A) * norm(B))"
   ]
  },
  {
   "cell_type": "code",
   "execution_count": 30,
   "metadata": {},
   "outputs": [
    {
     "name": "stdout",
     "output_type": "stream",
     "text": [
      "[[0 1 1 0 0]\n",
      " [1 0 0 1 1]\n",
      " [1 1 1 1 1]\n",
      " [0 2 2 0 0]]\n",
      "{'don': 1, 'know': 2, 'what': 4, 'should': 3, 'do': 0}\n"
     ]
    }
   ],
   "source": [
    "vector = CountVectorizer()\n",
    "\n",
    "print(vectors := vector.fit_transform(docs).toarray())\n",
    "print(vector.vocabulary_)"
   ]
  },
  {
   "cell_type": "code",
   "execution_count": 31,
   "metadata": {},
   "outputs": [
    {
     "name": "stdout",
     "output_type": "stream",
     "text": [
      "1과 2의 유사도 : 0.0\n",
      "1과 3의 유사도 : 0.6324555320336759\n",
      "1과 4의 유사도 : 0.9999999999999998\n",
      "2와 3의 유사도 : 0.7745966692414834\n",
      "3와 4의 유사도 : 0.6324555320336759\n"
     ]
    }
   ],
   "source": [
    "print('1과 2의 유사도 :', cos_similarity(vectors[0], vectors[1]))\n",
    "print('1과 3의 유사도 :', cos_similarity(vectors[0], vectors[2]))\n",
    "print('1과 4의 유사도 :', cos_similarity(vectors[0], vectors[3]))\n",
    "print('2와 3의 유사도 :', cos_similarity(vectors[1], vectors[2]))\n",
    "print('3와 4의 유사도 :', cos_similarity(vectors[2], vectors[3]))"
   ]
  },
  {
   "cell_type": "markdown",
   "metadata": {},
   "source": [
    "문서 내의 모든 단어의 빈도수가 동일하게 증가하는 경우에는 기존의 문서와 코사인 유사도의 값이 1\n",
    "\n",
    "문서 A와 B가 동일한 주제의 문서. 문서 C는 다른 주제의 문서라 하고,\n",
    "\n",
    "문서 A와 문서 C의 문서의 길이는 거의 차이가 나지 않지만, 문서 B의 경우 문서 A의 길이보다 두 배의 길이를 가진다고 가정하면\n",
    "\n",
    "유클리드 거리로 유사도를 연산하면 문서 A가 문서 B보다 문서 C와 유사도가 더 높게 계산, 유사도 연산에 문서의 길이가 영향\n",
    "\n",
    "이 경우 코사인 유사도가 해결책이 될 수 있음"
   ]
  },
  {
   "cell_type": "markdown",
   "metadata": {},
   "source": [
    "### 유클리드 거리(Euclidean distance)"
   ]
  },
  {
   "cell_type": "markdown",
   "metadata": {},
   "source": [
    "유클리드 거리(euclidean distance)는 문서의 유사도를 구할 때 자카드 유사도나 코사인 유사도만큼, 유용한 방법은 아님\n",
    "\n",
    "유클리드 거리는 좌표상 두 점 사이의 거리를 구하는 방식\n",
    "\n",
    "여러 문서에 대해서 유사도를 구하기 위해서는 단어의 총 개수만큼의 차원으로 확장이 필요"
   ]
  },
  {
   "cell_type": "markdown",
   "metadata": {},
   "source": [
    "다차원 공간에서 두개의 점 p, q가 있을때 유클리드 거리는 다음과 같다\n",
    "\n",
    "$ d(p, q) = \\sqrt{(q_1 - p_1)^2 + (q_2 - p_2)^2 + \\cdots + (q_n - p_n)^2} = \\sqrt{\\displaystyle\\sum_{i=1}^{n} (q_i - p_i)^2} $"
   ]
  },
  {
   "cell_type": "code",
   "execution_count": 32,
   "metadata": {},
   "outputs": [],
   "source": [
    "docs = [\n",
    "    \"I don't know\",\n",
    "    \"what should I do\",\n",
    "    \"I don't know. what should I do\",\n",
    "    \"I don't know. I don't know.\"\n",
    "]"
   ]
  },
  {
   "cell_type": "code",
   "execution_count": 33,
   "metadata": {},
   "outputs": [],
   "source": [
    "def distance(x, y):   \n",
    "    return np.sqrt(np.sum((x-y)**2))"
   ]
  },
  {
   "cell_type": "code",
   "execution_count": 34,
   "metadata": {},
   "outputs": [
    {
     "name": "stdout",
     "output_type": "stream",
     "text": [
      "[[0 1 1 0 0]\n",
      " [1 0 0 1 1]\n",
      " [1 1 1 1 1]\n",
      " [0 2 2 0 0]]\n",
      "{'don': 1, 'know': 2, 'what': 4, 'should': 3, 'do': 0}\n"
     ]
    }
   ],
   "source": [
    "vector = CountVectorizer()\n",
    "\n",
    "print(vectors := vector.fit_transform(docs).toarray())\n",
    "print(vector.vocabulary_)"
   ]
  },
  {
   "cell_type": "code",
   "execution_count": 35,
   "metadata": {},
   "outputs": [
    {
     "name": "stdout",
     "output_type": "stream",
     "text": [
      "1과 2의 거리 : 2.23606797749979\n",
      "1과 3의 거리 : 1.7320508075688772\n",
      "1과 4의 거리 : 1.4142135623730951\n",
      "2와 3의 거리 : 1.4142135623730951\n",
      "3와 4의 거리 : 2.23606797749979\n"
     ]
    }
   ],
   "source": [
    "print('1과 2의 거리 :', distance(vectors[0], vectors[1]))\n",
    "print('1과 3의 거리 :', distance(vectors[0], vectors[2]))\n",
    "print('1과 4의 거리 :', distance(vectors[0], vectors[3]))\n",
    "print('2와 3의 거리 :', distance(vectors[1], vectors[2]))\n",
    "print('3와 4의 거리 :', distance(vectors[2], vectors[3]))"
   ]
  },
  {
   "cell_type": "markdown",
   "metadata": {},
   "source": [
    "유클리드 거리의 값이 가장 작다는 것은 문서 간 거리가 가장 가깝다는 것을 의미"
   ]
  },
  {
   "cell_type": "markdown",
   "metadata": {},
   "source": [
    "### 자카드 유사도(Jaccard similarity)"
   ]
  },
  {
   "cell_type": "markdown",
   "metadata": {},
   "source": [
    "자카드 유사도(jaccard similarity) A와 B 두개의 집합이 있을때, 합집합에서 교집합의 비율을 구하여 유사도를 판별함\n",
    "\n",
    "자카드 유사도는 0과 1사이의 값\n",
    "\n",
    "두 집합이 동일하다면 1, 두 집합의 공통 원소가 없다면 0"
   ]
  },
  {
   "cell_type": "markdown",
   "metadata": {},
   "source": [
    "자카드 유사도를 구하는 함수를 J라 할때 자카드 유사도는 다음과 같다\n",
    "\n",
    "$ J(A, B) = \\frac{|A \\cap B|}{|A \\cup B|} = \\frac{|A \\cap B|}{|A| + |B| - |A \\cap B|} $"
   ]
  },
  {
   "cell_type": "code",
   "execution_count": 36,
   "metadata": {},
   "outputs": [
    {
     "name": "stdout",
     "output_type": "stream",
     "text": [
      "문서1 : ['apple', 'banana', 'everyone', 'like', 'likey', 'watch', 'card', 'holder']\n",
      "문서2 : ['apple', 'banana', 'coupon', 'passport', 'love', 'you']\n"
     ]
    }
   ],
   "source": [
    "doc1 = \"apple banana everyone like likey watch card holder\"\n",
    "doc2 = \"apple banana coupon passport love you\"\n",
    "\n",
    "# 토큰화\n",
    "tokenized_doc1 = doc1.split()\n",
    "tokenized_doc2 = doc2.split()\n",
    "\n",
    "print('문서1 :',tokenized_doc1)\n",
    "print('문서2 :',tokenized_doc2)"
   ]
  },
  {
   "cell_type": "code",
   "execution_count": 37,
   "metadata": {},
   "outputs": [
    {
     "name": "stdout",
     "output_type": "stream",
     "text": [
      "문서1과 문서2의 합집합 : {'watch', 'holder', 'you', 'like', 'banana', 'love', 'passport', 'apple', 'card', 'coupon', 'likey', 'everyone'}\n"
     ]
    }
   ],
   "source": [
    "union = set(tokenized_doc1).union(set(tokenized_doc2))\n",
    "print('문서1과 문서2의 합집합 :', union)"
   ]
  },
  {
   "cell_type": "code",
   "execution_count": 38,
   "metadata": {},
   "outputs": [
    {
     "name": "stdout",
     "output_type": "stream",
     "text": [
      "문서1과 문서2의 교집합 : {'apple', 'banana'}\n"
     ]
    }
   ],
   "source": [
    "intersection = set(tokenized_doc1).intersection(set(tokenized_doc2))\n",
    "print('문서1과 문서2의 교집합 :',intersection)"
   ]
  },
  {
   "cell_type": "code",
   "execution_count": 39,
   "metadata": {},
   "outputs": [
    {
     "name": "stdout",
     "output_type": "stream",
     "text": [
      "자카드 유사도 : 0.16666666666666666\n"
     ]
    }
   ],
   "source": [
    "print('자카드 유사도 :',len(intersection)/len(union))"
   ]
  }
 ],
 "metadata": {
  "kernelspec": {
   "display_name": "ml",
   "language": "python",
   "name": "python3"
  },
  "language_info": {
   "codemirror_mode": {
    "name": "ipython",
    "version": 3
   },
   "file_extension": ".py",
   "mimetype": "text/x-python",
   "name": "python",
   "nbconvert_exporter": "python",
   "pygments_lexer": "ipython3",
   "version": "3.10.13"
  }
 },
 "nbformat": 4,
 "nbformat_minor": 2
}
