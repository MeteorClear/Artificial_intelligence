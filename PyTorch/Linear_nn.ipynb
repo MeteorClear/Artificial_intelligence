{
 "cells": [
  {
   "cell_type": "code",
   "execution_count": 1,
   "metadata": {},
   "outputs": [],
   "source": [
    "import torch\n",
    "import torch.nn as nn\n",
    "import torch.nn.functional as F"
   ]
  },
  {
   "cell_type": "code",
   "execution_count": null,
   "metadata": {},
   "outputs": [],
   "source": [
    "torch.manual_seed(1)"
   ]
  },
  {
   "cell_type": "markdown",
   "metadata": {},
   "source": [
    "## nn.Module 을 사용한 선형 회귀 구현"
   ]
  },
  {
   "cell_type": "markdown",
   "metadata": {},
   "source": [
    "### 단순 선형 회귀 구현"
   ]
  },
  {
   "cell_type": "markdown",
   "metadata": {},
   "source": [
    "$y = 2x$ 를 가정한 데이터를 예시로 보면, W=2, b=0인 모델을 찾는 과정\n",
    "\n",
    "model = nn.Linear(input_dim, output_dim)\n",
    "\n",
    "입력과 출력 차원 모두 단순 선형 회귀 이므로 1이다."
   ]
  },
  {
   "cell_type": "code",
   "execution_count": 2,
   "metadata": {},
   "outputs": [],
   "source": [
    "# 데이터\n",
    "x_train = torch.FloatTensor([[1], [2], [3]])\n",
    "y_train = torch.FloatTensor([[2], [4], [6]])"
   ]
  },
  {
   "cell_type": "code",
   "execution_count": 3,
   "metadata": {},
   "outputs": [],
   "source": [
    "# 모델을 선언 및 초기화. 단순 선형 회귀이므로 input_dim=1, output_dim=1.\n",
    "model = nn.Linear(1,1)"
   ]
  },
  {
   "cell_type": "code",
   "execution_count": 6,
   "metadata": {},
   "outputs": [
    {
     "name": "stdout",
     "output_type": "stream",
     "text": [
      "[Parameter containing:\n",
      "tensor([[-0.8612]], requires_grad=True), Parameter containing:\n",
      "tensor([0.3583], requires_grad=True)]\n"
     ]
    }
   ],
   "source": [
    "# model에는 가중치 W와 편향 b가 저장되어 있고 .parameters()로 불러올 수 있다\n",
    "print(list(model.parameters()))\n",
    "# 학습하지 않은 상태이므로 랜덤한 값으로 초기화되어 있다.\n",
    "# 두 값 모두 학습의 대상이므로 requires_grad=True 이다."
   ]
  },
  {
   "cell_type": "code",
   "execution_count": 7,
   "metadata": {},
   "outputs": [],
   "source": [
    "# optimizer 설정. 경사 하강법 SGD를 사용하고 learning rate를 의미하는 lr은 0.01\n",
    "optimizer = torch.optim.SGD(model.parameters(), lr=0.01) "
   ]
  },
  {
   "cell_type": "code",
   "execution_count": 8,
   "metadata": {},
   "outputs": [
    {
     "name": "stdout",
     "output_type": "stream",
     "text": [
      "Epoch    0/2000              Cost: 34.230083\n",
      "Epoch  100/2000              Cost: 0.162711\n",
      "Epoch  200/2000              Cost: 0.100546\n",
      "Epoch  300/2000              Cost: 0.062131\n",
      "Epoch  400/2000              Cost: 0.038393\n",
      "Epoch  500/2000              Cost: 0.023725\n",
      "Epoch  600/2000              Cost: 0.014660\n",
      "Epoch  700/2000              Cost: 0.009059\n",
      "Epoch  800/2000              Cost: 0.005598\n",
      "Epoch  900/2000              Cost: 0.003459\n",
      "Epoch 1000/2000              Cost: 0.002138\n",
      "Epoch 1100/2000              Cost: 0.001321\n",
      "Epoch 1200/2000              Cost: 0.000816\n",
      "Epoch 1300/2000              Cost: 0.000504\n",
      "Epoch 1400/2000              Cost: 0.000312\n",
      "Epoch 1500/2000              Cost: 0.000193\n",
      "Epoch 1600/2000              Cost: 0.000119\n",
      "Epoch 1700/2000              Cost: 0.000074\n",
      "Epoch 1800/2000              Cost: 0.000045\n",
      "Epoch 1900/2000              Cost: 0.000028\n",
      "Epoch 2000/2000              Cost: 0.000017\n"
     ]
    }
   ],
   "source": [
    "nb_epochs = 2000\n",
    "for epoch in range(nb_epochs+1):\n",
    "\n",
    "    # H(x) 계산\n",
    "    prediction = model(x_train)\n",
    "\n",
    "    # cost 계산\n",
    "    cost = F.mse_loss(prediction, y_train) # 파이토치에서 제공하는 평균 제곱 오차 함수\n",
    "\n",
    "    # cost로 H(x) 개선하는 부분\n",
    "    # gradient를 0으로 초기화\n",
    "    optimizer.zero_grad()\n",
    "    # 비용 함수를 미분하여 gradient 계산\n",
    "    cost.backward() # backward 연산\n",
    "    # W와 b를 업데이트\n",
    "    optimizer.step()\n",
    "\n",
    "    if epoch % 100 == 0:\n",
    "    # 100번마다 로그 출력\n",
    "      print(f'Epoch {epoch:4d}/{nb_epochs} \\\n",
    "             Cost: {cost.item():.6f}')"
   ]
  },
  {
   "cell_type": "code",
   "execution_count": 11,
   "metadata": {},
   "outputs": [
    {
     "name": "stdout",
     "output_type": "stream",
     "text": [
      "tensor([[7.9917]], grad_fn=<AddmmBackward0>)\n",
      "[Parameter containing:\n",
      "tensor([[1.9952]], requires_grad=True), Parameter containing:\n",
      "tensor([0.0110], requires_grad=True)]\n"
     ]
    }
   ],
   "source": [
    "# 학습된 모델을 확인하기 위해 x에 임의의 값 4를 넣어 모델이 예측하는 y값을 확인\n",
    "\n",
    "# 임의의 입력 4를 선언\n",
    "new_var =  torch.FloatTensor([[4.0]]) \n",
    "\n",
    "# 입력한 값 4에 대해서 예측값 y를 리턴받아서 pred_y에 저장\n",
    "# H(x)식에 입력x로부터 예측된 값을 얻는 것을 forward 연산이라 함\n",
    "pred_y = model(new_var) # forward 연산\n",
    "\n",
    "# y = 2x 이므로 입력이 4라면 y가 8에 가까운 값이 나와야 제대로 학습이 된 것\n",
    "print(pred_y)\n",
    "\n",
    "# 가중치 W와 편향b는 2와 0에 가까워야 함\n",
    "# 학습 후 W, b 출력\n",
    "print(list(model.parameters()))"
   ]
  },
  {
   "cell_type": "markdown",
   "metadata": {},
   "source": [
    "`forward` : $H(x)$식에 입력 $x$로부터 예측된 $y$를 얻는 연산\n",
    "- prediction = model(x_train) : x_train으로부터 예측값을 리턴\n",
    "- pred_y = model(new_var) : new_var로부터 예측값을 리턴\n",
    "  \n",
    "`backward` : 학습 과정에서 비용 함수를 미분하여 기울기를 구하는 연산\n",
    "- cost.backward() : 비용 함수로부터 기울기를 구함"
   ]
  },
  {
   "cell_type": "markdown",
   "metadata": {},
   "source": [
    "### 다중 선형 회귀 구현"
   ]
  },
  {
   "cell_type": "markdown",
   "metadata": {},
   "source": [
    "$ H(X) = w_1x_1 + w_2x_2 + w_3x_3 $ 를 구현, 입력이 3이고 출력은 1"
   ]
  },
  {
   "cell_type": "code",
   "execution_count": 12,
   "metadata": {},
   "outputs": [],
   "source": [
    "# 데이터\n",
    "x_train = torch.FloatTensor([[73, 80, 75],\n",
    "                             [93, 88, 93],\n",
    "                             [89, 91, 90],\n",
    "                             [96, 98, 100],\n",
    "                             [73, 66, 70]])\n",
    "y_train = torch.FloatTensor([[152], [185], [180], [196], [142]])"
   ]
  },
  {
   "cell_type": "code",
   "execution_count": 14,
   "metadata": {},
   "outputs": [
    {
     "name": "stdout",
     "output_type": "stream",
     "text": [
      "[Parameter containing:\n",
      "tensor([[ 0.4863, -0.1562,  0.0478]], requires_grad=True), Parameter containing:\n",
      "tensor([0.0566], requires_grad=True)]\n"
     ]
    }
   ],
   "source": [
    "# 모델을 선언 및 초기화. 다중 선형 회귀이므로 input_dim=3, output_dim=1.\n",
    "model = nn.Linear(3,1)\n",
    "# 3개의 가중치와 하나의 편향을 출력\n",
    "print(list(model.parameters()))"
   ]
  },
  {
   "cell_type": "code",
   "execution_count": 15,
   "metadata": {},
   "outputs": [],
   "source": [
    "# optimizer 설정. 학습률(learning rate)은 0.00001로 설정, 학습률이 0.01이면 기울기가 발산함\n",
    "optimizer = torch.optim.SGD(model.parameters(), lr=1e-5) "
   ]
  },
  {
   "cell_type": "code",
   "execution_count": 16,
   "metadata": {},
   "outputs": [
    {
     "name": "stdout",
     "output_type": "stream",
     "text": [
      "Epoch    0/2000              Cost: 19560.238281\n",
      "Epoch  100/2000              Cost: 0.379555\n",
      "Epoch  200/2000              Cost: 0.370078\n",
      "Epoch  300/2000              Cost: 0.361095\n",
      "Epoch  400/2000              Cost: 0.352587\n",
      "Epoch  500/2000              Cost: 0.344504\n",
      "Epoch  600/2000              Cost: 0.336844\n",
      "Epoch  700/2000              Cost: 0.329577\n",
      "Epoch  800/2000              Cost: 0.322684\n",
      "Epoch  900/2000              Cost: 0.316156\n",
      "Epoch 1000/2000              Cost: 0.309954\n",
      "Epoch 1100/2000              Cost: 0.304076\n",
      "Epoch 1200/2000              Cost: 0.298492\n",
      "Epoch 1300/2000              Cost: 0.293202\n",
      "Epoch 1400/2000              Cost: 0.288175\n",
      "Epoch 1500/2000              Cost: 0.283415\n",
      "Epoch 1600/2000              Cost: 0.278886\n",
      "Epoch 1700/2000              Cost: 0.274593\n",
      "Epoch 1800/2000              Cost: 0.270514\n",
      "Epoch 1900/2000              Cost: 0.266645\n",
      "Epoch 2000/2000              Cost: 0.262971\n"
     ]
    }
   ],
   "source": [
    "# 단순 선형 회귀를 구현과 동일하게 구현\n",
    "nb_epochs = 2000\n",
    "for epoch in range(nb_epochs+1):\n",
    "\n",
    "    # H(x) 계산\n",
    "    prediction = model(x_train)\n",
    "    # model(x_train)은 model.forward(x_train)와 동일함.\n",
    "\n",
    "    # cost 계산\n",
    "    cost = F.mse_loss(prediction, y_train) # <== 파이토치에서 제공하는 평균 제곱 오차 함수\n",
    "\n",
    "    # cost로 H(x) 개선하는 부분\n",
    "    # gradient를 0으로 초기화\n",
    "    optimizer.zero_grad()\n",
    "    # 비용 함수를 미분하여 gradient 계산\n",
    "    cost.backward()\n",
    "    # W와 b를 업데이트\n",
    "    optimizer.step()\n",
    "\n",
    "    if epoch % 100 == 0:\n",
    "    # 100번마다 로그 출력\n",
    "      print(f'Epoch {epoch:4d}/{nb_epochs} \\\n",
    "             Cost: {cost.item():.6f}')"
   ]
  },
  {
   "cell_type": "code",
   "execution_count": 18,
   "metadata": {},
   "outputs": [
    {
     "name": "stdout",
     "output_type": "stream",
     "text": [
      "tensor([[151.0054]], grad_fn=<AddmmBackward0>)\n",
      "[Parameter containing:\n",
      "tensor([[1.0030, 0.4258, 0.5821]], requires_grad=True), Parameter containing:\n",
      "tensor([0.0641], requires_grad=True)]\n"
     ]
    }
   ],
   "source": [
    "# 임의의 입력 [73, 80, 75]를 선언\n",
    "new_var =  torch.FloatTensor([[73, 80, 75]]) \n",
    "# 입력한 값 [73, 80, 75]에 대해서 예측값 y를 리턴받아서 pred_y에 저장\n",
    "pred_y = model(new_var) \n",
    "# 73, 80, 75는 훈련데이터 값으로 y가 152에 가까워야 함\n",
    "print(pred_y)\n",
    "print(list(model.parameters()))"
   ]
  },
  {
   "cell_type": "code",
   "execution_count": null,
   "metadata": {},
   "outputs": [],
   "source": []
  }
 ],
 "metadata": {
  "kernelspec": {
   "display_name": "ml",
   "language": "python",
   "name": "python3"
  },
  "language_info": {
   "codemirror_mode": {
    "name": "ipython",
    "version": 3
   },
   "file_extension": ".py",
   "mimetype": "text/x-python",
   "name": "python",
   "nbconvert_exporter": "python",
   "pygments_lexer": "ipython3",
   "version": "3.10.13"
  }
 },
 "nbformat": 4,
 "nbformat_minor": 2
}
